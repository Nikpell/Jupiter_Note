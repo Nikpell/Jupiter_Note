{
 "cells": [
  {
   "cell_type": "markdown",
   "metadata": {},
   "source": [
    "1. Продакт на главной mail.ru решил протестировать в рекомендательной ленте контента вместо карточек со статьями видеоплеер с короткими видео. Нынешний таймспент на юзера в день в среднем равен 25 минут, а стандартная ошибка (SD) равна 156. Мы предполагаем, что в новой версии таймспент на юзера в день изменится на 10%. Средний трафик 20000 человек в день. Посчитайте сколько дней необходимо держать эксперимент при alpha = 5% и beta = 20% ."
   ]
  },
  {
   "cell_type": "markdown",
   "metadata": {},
   "source": [
    "Sample Size Calculation Results\n",
    "Results and Live Interpretation\n",
    "Assuming a pooled standard deviation of 156 units, the study would require a sample size of:\n",
    "61124\n",
    "for each group (i.e. a total sample size of 122248, assuming equal group sizes), to achieve a power of 80%\n",
    "and a level of significance of 5% (two sided), for detecting a true difference in means between the test and\n",
    "the reference group of 2.5 units.\n",
    "In other words, if you select a random sample of 61124 from each population, and determine that the\n",
    "difference in the two means is 2.5 units, and the pooled standard deviation is 156 units, you would have\n",
    "80% power to declare that the two groups have significantly different means, i.e. a two sided p-value of less\n",
    "than 0.05.\n",
    "Reference: Dhand, N. K., & Khatkar, M. S. (2014). Statulator: An online statistical calculator. Sample Size\n",
    "Calculator for Comparing Two Independent Means. Accessed 16 June 2023 at\n",
    "http://statulator.com/SampleSize/ss2M.html\n",
    "Note: Statulator used the input values of a power of 80%, a two sided level of significance of 5% and equal\n",
    "group sizes for sample size calculation and adjusted the sample size for t-distribution. You may change the\n",
    "options by clicking here or the 'Options' button and the adjustments by clicking here or the 'Adjust' button.\n"
   ]
  },
  {
   "cell_type": "code",
   "execution_count": 1,
   "metadata": {},
   "outputs": [
    {
     "data": {
      "text/plain": [
       "6.1124"
      ]
     },
     "execution_count": 1,
     "metadata": {},
     "output_type": "execute_result"
    }
   ],
   "source": [
    "122248 / 20000"
   ]
  },
  {
   "cell_type": "markdown",
   "metadata": {},
   "source": [
    "Ответ: 6.1124 дней"
   ]
  },
  {
   "cell_type": "markdown",
   "metadata": {},
   "source": []
  },
  {
   "cell_type": "markdown",
   "metadata": {},
   "source": [
    "2. Наша продуктовая команда в ecommerce магазине планирует запустить тест, направленный на ускорение загрузки сайта. Одна из основных метрик bounce rate в GA = 40%. Мы предполагаем, что при оптимизации сайта она изменится минимум на 20%.Средний трафик 4000 человек в день. Посчитайте сколько нам нужно дней держать эксперимент при alpha = 5% и beta = 20%"
   ]
  },
  {
   "cell_type": "markdown",
   "metadata": {},
   "source": [
    "Sample Size Calculation Results\n",
    "Results and Live Interpretation\n",
    "The study would require a sample size of:\n",
    "199\n",
    "(number of pairs) to achieve a power of 80% and a level of significance of 5% (two sided), for detecting an\n",
    "effect size of 0.2 between pairs .\n",
    "In other words, if you select a random sample of 199 pairs and determine that the effect size is 0.2, you\n",
    "would have 80% power to declare that the mean of the paired differences is significantly different from zero,\n",
    "i.e. a two sided p-value is less than 0.05.\n",
    "Reference: Dhand, N. K., & Khatkar, M. S. (2014). Statulator: An online statistical calculator. Sample Size\n",
    "Calculator for Comparing Two Paired Means. Accessed 16 June 2023 at\n",
    "http://statulator.com/SampleSize/ss2PM.html\n",
    "Note: Statulator used the input values of a power of 80% and a two sided level of significance of 5% for\n",
    "sample size calculation and adjusted the sample size for t-distribution. You may change the options by\n",
    "clicking here or the 'Options' button and the adjustments by clicking here or the 'Adjust' button."
   ]
  },
  {
   "cell_type": "code",
   "execution_count": 2,
   "metadata": {},
   "outputs": [
    {
     "data": {
      "text/plain": [
       "0.0995"
      ]
     },
     "execution_count": 2,
     "metadata": {},
     "output_type": "execute_result"
    }
   ],
   "source": [
    "199 * 2 / 4000"
   ]
  },
  {
   "cell_type": "code",
   "execution_count": null,
   "metadata": {},
   "outputs": [],
   "source": [
    "Ответ: 0.0995 дней"
   ]
  }
 ],
 "metadata": {
  "kernelspec": {
   "display_name": "Python 3 (ipykernel)",
   "language": "python",
   "name": "python3"
  },
  "language_info": {
   "codemirror_mode": {
    "name": "ipython",
    "version": 3
   },
   "file_extension": ".py",
   "mimetype": "text/x-python",
   "name": "python",
   "nbconvert_exporter": "python",
   "pygments_lexer": "ipython3",
   "version": "3.7.6"
  }
 },
 "nbformat": 4,
 "nbformat_minor": 4
}
